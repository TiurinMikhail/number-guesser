{
 "cells": [
  {
   "cell_type": "code",
   "execution_count": 1,
   "id": "37b93add",
   "metadata": {},
   "outputs": [
    {
     "name": "stdout",
     "output_type": "stream",
     "text": [
      "Welcome to the number guesser. Enter an integer from 1 to 100!\n",
      "102\n",
      "How about entering an integer from 1 to 100?\n",
      "45\n",
      "Your number is greater than the guessed one, try again.\n",
      "20\n",
      "Your number is greater than the guessed one, try again.\n",
      "ё0\n",
      "How about entering an integer from 1 to 100?\n",
      "10\n",
      "You guessed it, congratulations!\n",
      "Thank you for playing the number guesser. Until we meet again...\n"
     ]
    }
   ],
   "source": [
    "import random\n",
    "\n",
    "guessed_number = random.randint(1, 100)\n",
    "\n",
    "print('Welcome to the number guesser. Enter an integer from 1 to 100!')\n",
    "\n",
    "# Check for input validity, i.e., the entered string does not contain letters\n",
    "# and the number in the string is in the range from 1 to 100 inclusive.\n",
    "def is_valid(input_str):\n",
    "    number_list = [num for num in range(1, 101)]\n",
    "    if input_str.isdigit():\n",
    "        if int(input_str) in number_list:\n",
    "            return True\n",
    "        else:\n",
    "            return False\n",
    "    else:\n",
    "        return False\n",
    "\n",
    "# Main program loop\n",
    "final_number = 0\n",
    "while guessed_number != final_number:\n",
    "    user_input = input()\n",
    "    if is_valid(user_input):\n",
    "        final_number = int(user_input)\n",
    "        if final_number < guessed_number:\n",
    "            print('Your number is less than the guessed one, try again.')\n",
    "        elif final_number > guessed_number:\n",
    "            print('Your number is greater than the guessed one, try again.')\n",
    "        else:\n",
    "            print('You guessed it, congratulations!')\n",
    "    else:\n",
    "        print('How about entering an integer from 1 to 100?')\n",
    "        \n",
    "print('Thank you for playing the number guesser. Until we meet again...')"
   ]
  },
  {
   "cell_type": "code",
   "execution_count": null,
   "id": "ab864021",
   "metadata": {},
   "outputs": [],
   "source": []
  }
 ],
 "metadata": {
  "kernelspec": {
   "display_name": "Python 3 (ipykernel)",
   "language": "python",
   "name": "python3"
  },
  "language_info": {
   "codemirror_mode": {
    "name": "ipython",
    "version": 3
   },
   "file_extension": ".py",
   "mimetype": "text/x-python",
   "name": "python",
   "nbconvert_exporter": "python",
   "pygments_lexer": "ipython3",
   "version": "3.11.5"
  }
 },
 "nbformat": 4,
 "nbformat_minor": 5
}
