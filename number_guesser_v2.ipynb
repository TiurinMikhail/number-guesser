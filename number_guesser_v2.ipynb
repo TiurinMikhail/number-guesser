{
 "cells": [
  {
   "cell_type": "code",
   "execution_count": 2,
   "id": "2de4921b",
   "metadata": {},
   "outputs": [
    {
     "name": "stdout",
     "output_type": "stream",
     "text": [
      "Welcome to the number guessing game!\n",
      "Enter the upper limit for randomly choosing a number from 1 to n\n",
      "100\n",
      "Enter your number! 50\n",
      "Your number is less than the guessed one, try again\n",
      "Enter your number! 75\n",
      "Your number is less than the guessed one, try again\n",
      "Enter your number! 83\n",
      "Your number is less than the guessed one, try again\n",
      "Enter your number! 90\n",
      "Your number is less than the guessed one, try again\n",
      "Enter your number! 95\n",
      "Your number is less than the guessed one, try again\n",
      "Enter your number! 98\n",
      "Your number is less than the guessed one, try again\n",
      "Enter your number! 99\n",
      "You guessed the number, congratulations! Number of attempts = 7\n",
      "Want to try again? (y = yes, n = no): n\n",
      "Thanks for playing the number guessing game. See you again...\n"
     ]
    }
   ],
   "source": [
    "import random \n",
    "\n",
    "guessed_number = random.randint(1, 100)\n",
    "\n",
    "print('Welcome to the number guessing game!')\n",
    "\n",
    "# Foolproof check: the entered string should not contain letters, and the number in the string should be in the range from 1 to 100 inclusive.\n",
    "def is_valid(str): \n",
    "    list_num = [num for num in range(1, 101)]\n",
    "    if str.isdigit():\n",
    "        if int(str) in list_num:\n",
    "            return True\n",
    "        else:\n",
    "            return False\n",
    "    else:    \n",
    "        return False\n",
    "\n",
    "print('Enter the upper limit for randomly choosing a number from 1 to n')\n",
    "n = input()\n",
    "right_bounder = int(n)\n",
    "\n",
    "# Main program loop\n",
    "fin_num = 0\n",
    "again = 'y'\n",
    "while again.lower() == 'y':\n",
    "    cnt = 0\n",
    "    guessed_number = random.randint(1, right_bounder)\n",
    "    while guessed_number != fin_num:\n",
    "        user_input = input('Enter your number! ')\n",
    "        if is_valid(user_input):\n",
    "            fin_num = int(user_input)\n",
    "            if fin_num < guessed_number:\n",
    "                print('Your number is less than the guessed one, try again')\n",
    "                cnt += 1\n",
    "            elif fin_num > guessed_number:\n",
    "                print('Your number is greater than the guessed one, try again')\n",
    "                cnt += 1\n",
    "            else:\n",
    "                cnt += 1\n",
    "                print(f'You guessed the number, congratulations! Number of attempts = {cnt}')    \n",
    "        else:\n",
    "            print('How about entering an integer from 1 to 100?')\n",
    "    again = input('Want to try again? (y = yes, n = no): ')\n",
    "print('Thanks for playing the number guessing game. See you again...')"
   ]
  },
  {
   "cell_type": "code",
   "execution_count": null,
   "id": "c545dc96",
   "metadata": {},
   "outputs": [],
   "source": []
  }
 ],
 "metadata": {
  "kernelspec": {
   "display_name": "Python 3 (ipykernel)",
   "language": "python",
   "name": "python3"
  },
  "language_info": {
   "codemirror_mode": {
    "name": "ipython",
    "version": 3
   },
   "file_extension": ".py",
   "mimetype": "text/x-python",
   "name": "python",
   "nbconvert_exporter": "python",
   "pygments_lexer": "ipython3",
   "version": "3.11.5"
  }
 },
 "nbformat": 4,
 "nbformat_minor": 5
}
